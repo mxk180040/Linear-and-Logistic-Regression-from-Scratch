{
 "cells": [
  {
   "cell_type": "markdown",
   "metadata": {},
   "source": [
    "# Applied Machine Learning Assignment 1\t\t\t         \n",
    "## MUKIL RAJ KANNAN(mxk180040)"
   ]
  },
  {
   "cell_type": "markdown",
   "metadata": {},
   "source": [
    "Dataset description and summary statistics:\n",
    "The dataset for implementing the gradient descent algorithm for linear and logistic regression is downloaded from UCI Machine Learning repository. The dataset name is “sgemm_product.csv” . The details about the dataset is mentioned below :-  \n",
    "    The dataset has 241600 records with 18 features  \n",
    "    The dependent variable is average of four runs (in ms)  \n",
    "    This is a clean dataset as there are no missing values in the dataset in any of the columns  \n"
   ]
  },
  {
   "cell_type": "code",
   "execution_count": 4,
   "metadata": {},
   "outputs": [],
   "source": [
    "#import the libraries\n",
    "import pandas as pd\n",
    "import numpy as np\n",
    "import matplotlib.pyplot as plt\n",
    "import seaborn as sns\n",
    "%matplotlib inline"
   ]
  },
  {
   "cell_type": "code",
   "execution_count": 5,
   "metadata": {},
   "outputs": [],
   "source": [
    "#read the csv file\n",
    "sgemm_product=pd.read_csv('sgemm_product.csv')"
   ]
  },
  {
   "cell_type": "code",
   "execution_count": 6,
   "metadata": {
    "scrolled": false
   },
   "outputs": [
    {
     "data": {
      "text/html": [
       "<div>\n",
       "<style scoped>\n",
       "    .dataframe tbody tr th:only-of-type {\n",
       "        vertical-align: middle;\n",
       "    }\n",
       "\n",
       "    .dataframe tbody tr th {\n",
       "        vertical-align: top;\n",
       "    }\n",
       "\n",
       "    .dataframe thead th {\n",
       "        text-align: right;\n",
       "    }\n",
       "</style>\n",
       "<table border=\"1\" class=\"dataframe\">\n",
       "  <thead>\n",
       "    <tr style=\"text-align: right;\">\n",
       "      <th></th>\n",
       "      <th>MWG</th>\n",
       "      <th>NWG</th>\n",
       "      <th>KWG</th>\n",
       "      <th>MDIMC</th>\n",
       "      <th>NDIMC</th>\n",
       "      <th>MDIMA</th>\n",
       "      <th>NDIMB</th>\n",
       "      <th>KWI</th>\n",
       "      <th>VWM</th>\n",
       "      <th>VWN</th>\n",
       "      <th>STRM</th>\n",
       "      <th>STRN</th>\n",
       "      <th>SA</th>\n",
       "      <th>SB</th>\n",
       "      <th>Run1 (ms)</th>\n",
       "      <th>Run2 (ms)</th>\n",
       "      <th>Run3 (ms)</th>\n",
       "      <th>Run4 (ms)</th>\n",
       "    </tr>\n",
       "  </thead>\n",
       "  <tbody>\n",
       "    <tr>\n",
       "      <th>0</th>\n",
       "      <td>16</td>\n",
       "      <td>16</td>\n",
       "      <td>16</td>\n",
       "      <td>8</td>\n",
       "      <td>8</td>\n",
       "      <td>8</td>\n",
       "      <td>8</td>\n",
       "      <td>2</td>\n",
       "      <td>1</td>\n",
       "      <td>1</td>\n",
       "      <td>0</td>\n",
       "      <td>0</td>\n",
       "      <td>0</td>\n",
       "      <td>0</td>\n",
       "      <td>115.26</td>\n",
       "      <td>115.87</td>\n",
       "      <td>118.55</td>\n",
       "      <td>115.80</td>\n",
       "    </tr>\n",
       "    <tr>\n",
       "      <th>1</th>\n",
       "      <td>16</td>\n",
       "      <td>16</td>\n",
       "      <td>16</td>\n",
       "      <td>8</td>\n",
       "      <td>8</td>\n",
       "      <td>8</td>\n",
       "      <td>8</td>\n",
       "      <td>2</td>\n",
       "      <td>1</td>\n",
       "      <td>1</td>\n",
       "      <td>0</td>\n",
       "      <td>0</td>\n",
       "      <td>0</td>\n",
       "      <td>1</td>\n",
       "      <td>78.13</td>\n",
       "      <td>78.25</td>\n",
       "      <td>79.25</td>\n",
       "      <td>79.19</td>\n",
       "    </tr>\n",
       "    <tr>\n",
       "      <th>2</th>\n",
       "      <td>16</td>\n",
       "      <td>16</td>\n",
       "      <td>16</td>\n",
       "      <td>8</td>\n",
       "      <td>8</td>\n",
       "      <td>8</td>\n",
       "      <td>8</td>\n",
       "      <td>2</td>\n",
       "      <td>1</td>\n",
       "      <td>1</td>\n",
       "      <td>0</td>\n",
       "      <td>0</td>\n",
       "      <td>1</td>\n",
       "      <td>0</td>\n",
       "      <td>79.84</td>\n",
       "      <td>80.69</td>\n",
       "      <td>80.76</td>\n",
       "      <td>80.97</td>\n",
       "    </tr>\n",
       "    <tr>\n",
       "      <th>3</th>\n",
       "      <td>16</td>\n",
       "      <td>16</td>\n",
       "      <td>16</td>\n",
       "      <td>8</td>\n",
       "      <td>8</td>\n",
       "      <td>8</td>\n",
       "      <td>8</td>\n",
       "      <td>2</td>\n",
       "      <td>1</td>\n",
       "      <td>1</td>\n",
       "      <td>0</td>\n",
       "      <td>0</td>\n",
       "      <td>1</td>\n",
       "      <td>1</td>\n",
       "      <td>84.32</td>\n",
       "      <td>89.90</td>\n",
       "      <td>86.75</td>\n",
       "      <td>85.58</td>\n",
       "    </tr>\n",
       "    <tr>\n",
       "      <th>4</th>\n",
       "      <td>16</td>\n",
       "      <td>16</td>\n",
       "      <td>16</td>\n",
       "      <td>8</td>\n",
       "      <td>8</td>\n",
       "      <td>8</td>\n",
       "      <td>8</td>\n",
       "      <td>2</td>\n",
       "      <td>1</td>\n",
       "      <td>1</td>\n",
       "      <td>0</td>\n",
       "      <td>1</td>\n",
       "      <td>0</td>\n",
       "      <td>0</td>\n",
       "      <td>115.13</td>\n",
       "      <td>121.98</td>\n",
       "      <td>122.73</td>\n",
       "      <td>114.81</td>\n",
       "    </tr>\n",
       "  </tbody>\n",
       "</table>\n",
       "</div>"
      ],
      "text/plain": [
       "   MWG  NWG  KWG  MDIMC  NDIMC  MDIMA  NDIMB  KWI  VWM  VWN  STRM  STRN  SA  \\\n",
       "0   16   16   16      8      8      8      8    2    1    1     0     0   0   \n",
       "1   16   16   16      8      8      8      8    2    1    1     0     0   0   \n",
       "2   16   16   16      8      8      8      8    2    1    1     0     0   1   \n",
       "3   16   16   16      8      8      8      8    2    1    1     0     0   1   \n",
       "4   16   16   16      8      8      8      8    2    1    1     0     1   0   \n",
       "\n",
       "   SB  Run1 (ms)  Run2 (ms)  Run3 (ms)  Run4 (ms)  \n",
       "0   0     115.26     115.87     118.55     115.80  \n",
       "1   1      78.13      78.25      79.25      79.19  \n",
       "2   0      79.84      80.69      80.76      80.97  \n",
       "3   1      84.32      89.90      86.75      85.58  \n",
       "4   0     115.13     121.98     122.73     114.81  "
      ]
     },
     "execution_count": 6,
     "metadata": {},
     "output_type": "execute_result"
    }
   ],
   "source": [
    "sgemm_product.head()"
   ]
  },
  {
   "cell_type": "code",
   "execution_count": 7,
   "metadata": {},
   "outputs": [
    {
     "name": "stdout",
     "output_type": "stream",
     "text": [
      "<class 'pandas.core.frame.DataFrame'>\n",
      "RangeIndex: 241600 entries, 0 to 241599\n",
      "Data columns (total 18 columns):\n",
      "MWG          241600 non-null int64\n",
      "NWG          241600 non-null int64\n",
      "KWG          241600 non-null int64\n",
      "MDIMC        241600 non-null int64\n",
      "NDIMC        241600 non-null int64\n",
      "MDIMA        241600 non-null int64\n",
      "NDIMB        241600 non-null int64\n",
      "KWI          241600 non-null int64\n",
      "VWM          241600 non-null int64\n",
      "VWN          241600 non-null int64\n",
      "STRM         241600 non-null int64\n",
      "STRN         241600 non-null int64\n",
      "SA           241600 non-null int64\n",
      "SB           241600 non-null int64\n",
      "Run1 (ms)    241600 non-null float64\n",
      "Run2 (ms)    241600 non-null float64\n",
      "Run3 (ms)    241600 non-null float64\n",
      "Run4 (ms)    241600 non-null float64\n",
      "dtypes: float64(4), int64(14)\n",
      "memory usage: 33.2 MB\n"
     ]
    }
   ],
   "source": [
    "sgemm_product.info()"
   ]
  },
  {
   "cell_type": "code",
   "execution_count": 8,
   "metadata": {},
   "outputs": [
    {
     "data": {
      "text/html": [
       "<div>\n",
       "<style scoped>\n",
       "    .dataframe tbody tr th:only-of-type {\n",
       "        vertical-align: middle;\n",
       "    }\n",
       "\n",
       "    .dataframe tbody tr th {\n",
       "        vertical-align: top;\n",
       "    }\n",
       "\n",
       "    .dataframe thead th {\n",
       "        text-align: right;\n",
       "    }\n",
       "</style>\n",
       "<table border=\"1\" class=\"dataframe\">\n",
       "  <thead>\n",
       "    <tr style=\"text-align: right;\">\n",
       "      <th></th>\n",
       "      <th>MWG</th>\n",
       "      <th>NWG</th>\n",
       "      <th>KWG</th>\n",
       "      <th>MDIMC</th>\n",
       "      <th>NDIMC</th>\n",
       "      <th>MDIMA</th>\n",
       "      <th>NDIMB</th>\n",
       "      <th>KWI</th>\n",
       "      <th>VWM</th>\n",
       "      <th>VWN</th>\n",
       "      <th>STRM</th>\n",
       "      <th>STRN</th>\n",
       "      <th>SA</th>\n",
       "      <th>SB</th>\n",
       "      <th>Run1 (ms)</th>\n",
       "      <th>Run2 (ms)</th>\n",
       "      <th>Run3 (ms)</th>\n",
       "      <th>Run4 (ms)</th>\n",
       "    </tr>\n",
       "  </thead>\n",
       "  <tbody>\n",
       "    <tr>\n",
       "      <th>count</th>\n",
       "      <td>241600.000000</td>\n",
       "      <td>241600.000000</td>\n",
       "      <td>241600.000000</td>\n",
       "      <td>241600.000000</td>\n",
       "      <td>241600.000000</td>\n",
       "      <td>241600.000000</td>\n",
       "      <td>241600.000000</td>\n",
       "      <td>241600.000000</td>\n",
       "      <td>241600.000000</td>\n",
       "      <td>241600.000000</td>\n",
       "      <td>241600.000000</td>\n",
       "      <td>241600.000000</td>\n",
       "      <td>241600.000000</td>\n",
       "      <td>241600.000000</td>\n",
       "      <td>241600.000000</td>\n",
       "      <td>241600.000000</td>\n",
       "      <td>241600.000000</td>\n",
       "      <td>241600.000000</td>\n",
       "    </tr>\n",
       "    <tr>\n",
       "      <th>mean</th>\n",
       "      <td>80.415364</td>\n",
       "      <td>80.415364</td>\n",
       "      <td>25.513113</td>\n",
       "      <td>13.935894</td>\n",
       "      <td>13.935894</td>\n",
       "      <td>17.371126</td>\n",
       "      <td>17.371126</td>\n",
       "      <td>5.000000</td>\n",
       "      <td>2.448609</td>\n",
       "      <td>2.448609</td>\n",
       "      <td>0.500000</td>\n",
       "      <td>0.500000</td>\n",
       "      <td>0.500000</td>\n",
       "      <td>0.500000</td>\n",
       "      <td>217.647852</td>\n",
       "      <td>217.579536</td>\n",
       "      <td>217.532756</td>\n",
       "      <td>217.527669</td>\n",
       "    </tr>\n",
       "    <tr>\n",
       "      <th>std</th>\n",
       "      <td>42.469220</td>\n",
       "      <td>42.469220</td>\n",
       "      <td>7.855619</td>\n",
       "      <td>7.873662</td>\n",
       "      <td>7.873662</td>\n",
       "      <td>9.389418</td>\n",
       "      <td>9.389418</td>\n",
       "      <td>3.000006</td>\n",
       "      <td>1.953759</td>\n",
       "      <td>1.953759</td>\n",
       "      <td>0.500001</td>\n",
       "      <td>0.500001</td>\n",
       "      <td>0.500001</td>\n",
       "      <td>0.500001</td>\n",
       "      <td>369.012422</td>\n",
       "      <td>368.677309</td>\n",
       "      <td>368.655118</td>\n",
       "      <td>368.677413</td>\n",
       "    </tr>\n",
       "    <tr>\n",
       "      <th>min</th>\n",
       "      <td>16.000000</td>\n",
       "      <td>16.000000</td>\n",
       "      <td>16.000000</td>\n",
       "      <td>8.000000</td>\n",
       "      <td>8.000000</td>\n",
       "      <td>8.000000</td>\n",
       "      <td>8.000000</td>\n",
       "      <td>2.000000</td>\n",
       "      <td>1.000000</td>\n",
       "      <td>1.000000</td>\n",
       "      <td>0.000000</td>\n",
       "      <td>0.000000</td>\n",
       "      <td>0.000000</td>\n",
       "      <td>0.000000</td>\n",
       "      <td>13.290000</td>\n",
       "      <td>13.250000</td>\n",
       "      <td>13.360000</td>\n",
       "      <td>13.370000</td>\n",
       "    </tr>\n",
       "    <tr>\n",
       "      <th>25%</th>\n",
       "      <td>32.000000</td>\n",
       "      <td>32.000000</td>\n",
       "      <td>16.000000</td>\n",
       "      <td>8.000000</td>\n",
       "      <td>8.000000</td>\n",
       "      <td>8.000000</td>\n",
       "      <td>8.000000</td>\n",
       "      <td>2.000000</td>\n",
       "      <td>1.000000</td>\n",
       "      <td>1.000000</td>\n",
       "      <td>0.000000</td>\n",
       "      <td>0.000000</td>\n",
       "      <td>0.000000</td>\n",
       "      <td>0.000000</td>\n",
       "      <td>40.660000</td>\n",
       "      <td>40.710000</td>\n",
       "      <td>40.660000</td>\n",
       "      <td>40.640000</td>\n",
       "    </tr>\n",
       "    <tr>\n",
       "      <th>50%</th>\n",
       "      <td>64.000000</td>\n",
       "      <td>64.000000</td>\n",
       "      <td>32.000000</td>\n",
       "      <td>8.000000</td>\n",
       "      <td>8.000000</td>\n",
       "      <td>16.000000</td>\n",
       "      <td>16.000000</td>\n",
       "      <td>5.000000</td>\n",
       "      <td>2.000000</td>\n",
       "      <td>2.000000</td>\n",
       "      <td>0.500000</td>\n",
       "      <td>0.500000</td>\n",
       "      <td>0.500000</td>\n",
       "      <td>0.500000</td>\n",
       "      <td>69.825000</td>\n",
       "      <td>69.930000</td>\n",
       "      <td>69.790000</td>\n",
       "      <td>69.820000</td>\n",
       "    </tr>\n",
       "    <tr>\n",
       "      <th>75%</th>\n",
       "      <td>128.000000</td>\n",
       "      <td>128.000000</td>\n",
       "      <td>32.000000</td>\n",
       "      <td>16.000000</td>\n",
       "      <td>16.000000</td>\n",
       "      <td>32.000000</td>\n",
       "      <td>32.000000</td>\n",
       "      <td>8.000000</td>\n",
       "      <td>4.000000</td>\n",
       "      <td>4.000000</td>\n",
       "      <td>1.000000</td>\n",
       "      <td>1.000000</td>\n",
       "      <td>1.000000</td>\n",
       "      <td>1.000000</td>\n",
       "      <td>228.530000</td>\n",
       "      <td>228.310000</td>\n",
       "      <td>228.320000</td>\n",
       "      <td>228.320000</td>\n",
       "    </tr>\n",
       "    <tr>\n",
       "      <th>max</th>\n",
       "      <td>128.000000</td>\n",
       "      <td>128.000000</td>\n",
       "      <td>32.000000</td>\n",
       "      <td>32.000000</td>\n",
       "      <td>32.000000</td>\n",
       "      <td>32.000000</td>\n",
       "      <td>32.000000</td>\n",
       "      <td>8.000000</td>\n",
       "      <td>8.000000</td>\n",
       "      <td>8.000000</td>\n",
       "      <td>1.000000</td>\n",
       "      <td>1.000000</td>\n",
       "      <td>1.000000</td>\n",
       "      <td>1.000000</td>\n",
       "      <td>3339.630000</td>\n",
       "      <td>3375.420000</td>\n",
       "      <td>3397.080000</td>\n",
       "      <td>3361.710000</td>\n",
       "    </tr>\n",
       "  </tbody>\n",
       "</table>\n",
       "</div>"
      ],
      "text/plain": [
       "                 MWG            NWG            KWG          MDIMC  \\\n",
       "count  241600.000000  241600.000000  241600.000000  241600.000000   \n",
       "mean       80.415364      80.415364      25.513113      13.935894   \n",
       "std        42.469220      42.469220       7.855619       7.873662   \n",
       "min        16.000000      16.000000      16.000000       8.000000   \n",
       "25%        32.000000      32.000000      16.000000       8.000000   \n",
       "50%        64.000000      64.000000      32.000000       8.000000   \n",
       "75%       128.000000     128.000000      32.000000      16.000000   \n",
       "max       128.000000     128.000000      32.000000      32.000000   \n",
       "\n",
       "               NDIMC          MDIMA          NDIMB            KWI  \\\n",
       "count  241600.000000  241600.000000  241600.000000  241600.000000   \n",
       "mean       13.935894      17.371126      17.371126       5.000000   \n",
       "std         7.873662       9.389418       9.389418       3.000006   \n",
       "min         8.000000       8.000000       8.000000       2.000000   \n",
       "25%         8.000000       8.000000       8.000000       2.000000   \n",
       "50%         8.000000      16.000000      16.000000       5.000000   \n",
       "75%        16.000000      32.000000      32.000000       8.000000   \n",
       "max        32.000000      32.000000      32.000000       8.000000   \n",
       "\n",
       "                 VWM            VWN           STRM           STRN  \\\n",
       "count  241600.000000  241600.000000  241600.000000  241600.000000   \n",
       "mean        2.448609       2.448609       0.500000       0.500000   \n",
       "std         1.953759       1.953759       0.500001       0.500001   \n",
       "min         1.000000       1.000000       0.000000       0.000000   \n",
       "25%         1.000000       1.000000       0.000000       0.000000   \n",
       "50%         2.000000       2.000000       0.500000       0.500000   \n",
       "75%         4.000000       4.000000       1.000000       1.000000   \n",
       "max         8.000000       8.000000       1.000000       1.000000   \n",
       "\n",
       "                  SA             SB      Run1 (ms)      Run2 (ms)  \\\n",
       "count  241600.000000  241600.000000  241600.000000  241600.000000   \n",
       "mean        0.500000       0.500000     217.647852     217.579536   \n",
       "std         0.500001       0.500001     369.012422     368.677309   \n",
       "min         0.000000       0.000000      13.290000      13.250000   \n",
       "25%         0.000000       0.000000      40.660000      40.710000   \n",
       "50%         0.500000       0.500000      69.825000      69.930000   \n",
       "75%         1.000000       1.000000     228.530000     228.310000   \n",
       "max         1.000000       1.000000    3339.630000    3375.420000   \n",
       "\n",
       "           Run3 (ms)      Run4 (ms)  \n",
       "count  241600.000000  241600.000000  \n",
       "mean      217.532756     217.527669  \n",
       "std       368.655118     368.677413  \n",
       "min        13.360000      13.370000  \n",
       "25%        40.660000      40.640000  \n",
       "50%        69.790000      69.820000  \n",
       "75%       228.320000     228.320000  \n",
       "max      3397.080000    3361.710000  "
      ]
     },
     "execution_count": 8,
     "metadata": {},
     "output_type": "execute_result"
    }
   ],
   "source": [
    "sgemm_product.describe()"
   ]
  },
  {
   "cell_type": "code",
   "execution_count": 9,
   "metadata": {},
   "outputs": [],
   "source": [
    "# take the average of run time\n",
    "sgemm_product['AVERAGE_RUN']=sgemm_product[['Run1 (ms)','Run2 (ms)','Run3 (ms)','Run4 (ms)']].mean(axis=1)"
   ]
  },
  {
   "cell_type": "code",
   "execution_count": 10,
   "metadata": {
    "scrolled": true
   },
   "outputs": [
    {
     "data": {
      "text/html": [
       "<div>\n",
       "<style scoped>\n",
       "    .dataframe tbody tr th:only-of-type {\n",
       "        vertical-align: middle;\n",
       "    }\n",
       "\n",
       "    .dataframe tbody tr th {\n",
       "        vertical-align: top;\n",
       "    }\n",
       "\n",
       "    .dataframe thead th {\n",
       "        text-align: right;\n",
       "    }\n",
       "</style>\n",
       "<table border=\"1\" class=\"dataframe\">\n",
       "  <thead>\n",
       "    <tr style=\"text-align: right;\">\n",
       "      <th></th>\n",
       "      <th>MWG</th>\n",
       "      <th>NWG</th>\n",
       "      <th>KWG</th>\n",
       "      <th>MDIMC</th>\n",
       "      <th>NDIMC</th>\n",
       "      <th>MDIMA</th>\n",
       "      <th>NDIMB</th>\n",
       "      <th>KWI</th>\n",
       "      <th>VWM</th>\n",
       "      <th>VWN</th>\n",
       "      <th>STRM</th>\n",
       "      <th>STRN</th>\n",
       "      <th>SA</th>\n",
       "      <th>SB</th>\n",
       "      <th>Run1 (ms)</th>\n",
       "      <th>Run2 (ms)</th>\n",
       "      <th>Run3 (ms)</th>\n",
       "      <th>Run4 (ms)</th>\n",
       "      <th>AVERAGE_RUN</th>\n",
       "    </tr>\n",
       "  </thead>\n",
       "  <tbody>\n",
       "    <tr>\n",
       "      <th>0</th>\n",
       "      <td>16</td>\n",
       "      <td>16</td>\n",
       "      <td>16</td>\n",
       "      <td>8</td>\n",
       "      <td>8</td>\n",
       "      <td>8</td>\n",
       "      <td>8</td>\n",
       "      <td>2</td>\n",
       "      <td>1</td>\n",
       "      <td>1</td>\n",
       "      <td>0</td>\n",
       "      <td>0</td>\n",
       "      <td>0</td>\n",
       "      <td>0</td>\n",
       "      <td>115.26</td>\n",
       "      <td>115.87</td>\n",
       "      <td>118.55</td>\n",
       "      <td>115.80</td>\n",
       "      <td>116.3700</td>\n",
       "    </tr>\n",
       "    <tr>\n",
       "      <th>1</th>\n",
       "      <td>16</td>\n",
       "      <td>16</td>\n",
       "      <td>16</td>\n",
       "      <td>8</td>\n",
       "      <td>8</td>\n",
       "      <td>8</td>\n",
       "      <td>8</td>\n",
       "      <td>2</td>\n",
       "      <td>1</td>\n",
       "      <td>1</td>\n",
       "      <td>0</td>\n",
       "      <td>0</td>\n",
       "      <td>0</td>\n",
       "      <td>1</td>\n",
       "      <td>78.13</td>\n",
       "      <td>78.25</td>\n",
       "      <td>79.25</td>\n",
       "      <td>79.19</td>\n",
       "      <td>78.7050</td>\n",
       "    </tr>\n",
       "    <tr>\n",
       "      <th>2</th>\n",
       "      <td>16</td>\n",
       "      <td>16</td>\n",
       "      <td>16</td>\n",
       "      <td>8</td>\n",
       "      <td>8</td>\n",
       "      <td>8</td>\n",
       "      <td>8</td>\n",
       "      <td>2</td>\n",
       "      <td>1</td>\n",
       "      <td>1</td>\n",
       "      <td>0</td>\n",
       "      <td>0</td>\n",
       "      <td>1</td>\n",
       "      <td>0</td>\n",
       "      <td>79.84</td>\n",
       "      <td>80.69</td>\n",
       "      <td>80.76</td>\n",
       "      <td>80.97</td>\n",
       "      <td>80.5650</td>\n",
       "    </tr>\n",
       "    <tr>\n",
       "      <th>3</th>\n",
       "      <td>16</td>\n",
       "      <td>16</td>\n",
       "      <td>16</td>\n",
       "      <td>8</td>\n",
       "      <td>8</td>\n",
       "      <td>8</td>\n",
       "      <td>8</td>\n",
       "      <td>2</td>\n",
       "      <td>1</td>\n",
       "      <td>1</td>\n",
       "      <td>0</td>\n",
       "      <td>0</td>\n",
       "      <td>1</td>\n",
       "      <td>1</td>\n",
       "      <td>84.32</td>\n",
       "      <td>89.90</td>\n",
       "      <td>86.75</td>\n",
       "      <td>85.58</td>\n",
       "      <td>86.6375</td>\n",
       "    </tr>\n",
       "    <tr>\n",
       "      <th>4</th>\n",
       "      <td>16</td>\n",
       "      <td>16</td>\n",
       "      <td>16</td>\n",
       "      <td>8</td>\n",
       "      <td>8</td>\n",
       "      <td>8</td>\n",
       "      <td>8</td>\n",
       "      <td>2</td>\n",
       "      <td>1</td>\n",
       "      <td>1</td>\n",
       "      <td>0</td>\n",
       "      <td>1</td>\n",
       "      <td>0</td>\n",
       "      <td>0</td>\n",
       "      <td>115.13</td>\n",
       "      <td>121.98</td>\n",
       "      <td>122.73</td>\n",
       "      <td>114.81</td>\n",
       "      <td>118.6625</td>\n",
       "    </tr>\n",
       "  </tbody>\n",
       "</table>\n",
       "</div>"
      ],
      "text/plain": [
       "   MWG  NWG  KWG  MDIMC  NDIMC  MDIMA  NDIMB  KWI  VWM  VWN  STRM  STRN  SA  \\\n",
       "0   16   16   16      8      8      8      8    2    1    1     0     0   0   \n",
       "1   16   16   16      8      8      8      8    2    1    1     0     0   0   \n",
       "2   16   16   16      8      8      8      8    2    1    1     0     0   1   \n",
       "3   16   16   16      8      8      8      8    2    1    1     0     0   1   \n",
       "4   16   16   16      8      8      8      8    2    1    1     0     1   0   \n",
       "\n",
       "   SB  Run1 (ms)  Run2 (ms)  Run3 (ms)  Run4 (ms)  AVERAGE_RUN  \n",
       "0   0     115.26     115.87     118.55     115.80     116.3700  \n",
       "1   1      78.13      78.25      79.25      79.19      78.7050  \n",
       "2   0      79.84      80.69      80.76      80.97      80.5650  \n",
       "3   1      84.32      89.90      86.75      85.58      86.6375  \n",
       "4   0     115.13     121.98     122.73     114.81     118.6625  "
      ]
     },
     "execution_count": 10,
     "metadata": {},
     "output_type": "execute_result"
    }
   ],
   "source": [
    "sgemm_product.head()"
   ]
  },
  {
   "cell_type": "code",
   "execution_count": 11,
   "metadata": {},
   "outputs": [],
   "source": [
    "# drop the run columns as we need only the average column for our model\n",
    "sgemm_product=sgemm_product.drop(['Run1 (ms)','Run2 (ms)','Run3 (ms)','Run4 (ms)'],axis=1)"
   ]
  },
  {
   "cell_type": "code",
   "execution_count": 12,
   "metadata": {},
   "outputs": [
    {
     "data": {
      "text/plain": [
       "MWG              int64\n",
       "NWG              int64\n",
       "KWG              int64\n",
       "MDIMC            int64\n",
       "NDIMC            int64\n",
       "MDIMA            int64\n",
       "NDIMB            int64\n",
       "KWI              int64\n",
       "VWM              int64\n",
       "VWN              int64\n",
       "STRM             int64\n",
       "STRN             int64\n",
       "SA               int64\n",
       "SB               int64\n",
       "AVERAGE_RUN    float64\n",
       "dtype: object"
      ]
     },
     "execution_count": 12,
     "metadata": {},
     "output_type": "execute_result"
    }
   ],
   "source": [
    "# To get the datatypes\n",
    "sgemm_product.dtypes"
   ]
  },
  {
   "cell_type": "code",
   "execution_count": 13,
   "metadata": {},
   "outputs": [
    {
     "data": {
      "text/plain": [
       "MWG            0\n",
       "NWG            0\n",
       "KWG            0\n",
       "MDIMC          0\n",
       "NDIMC          0\n",
       "MDIMA          0\n",
       "NDIMB          0\n",
       "KWI            0\n",
       "VWM            0\n",
       "VWN            0\n",
       "STRM           0\n",
       "STRN           0\n",
       "SA             0\n",
       "SB             0\n",
       "AVERAGE_RUN    0\n",
       "dtype: int64"
      ]
     },
     "execution_count": 13,
     "metadata": {},
     "output_type": "execute_result"
    }
   ],
   "source": [
    "# Code to find if there is any missing values\n",
    "sgemm_product.isnull().sum()"
   ]
  },
  {
   "cell_type": "markdown",
   "metadata": {},
   "source": [
    "Correlation is a term that quantifies the degree to which two variables are related to each other . We can try to find the correlation between the independent variables by using the correlation plot. When variables are highly correlated, they can introduce instability in the errors on the betas and are, in fact, measuring the same thing . So, the simple solution, assuming you cannot greatly increase sample size, is to throw out all but one of any group of variables that is highly correlated. Since our data doesn’t have any highly correlated data, we can use all 15 variables."
   ]
  },
  {
   "cell_type": "code",
   "execution_count": 14,
   "metadata": {},
   "outputs": [
    {
     "data": {
      "text/plain": [
       "<matplotlib.axes._subplots.AxesSubplot at 0x1ff8a1256d8>"
      ]
     },
     "execution_count": 14,
     "metadata": {},
     "output_type": "execute_result"
    },
    {
     "data": {
      "image/png": "[encoded data removed]",
      "text/plain": [
       "<Figure size 1440x936 with 2 Axes>"
      ]
     },
     "metadata": {
      "needs_background": "light"
     },
     "output_type": "display_data"
    }
   ],
   "source": [
    "# Get correlations of each features in dataset\n",
    "corrmat = sgemm_product.corr()\n",
    "top_corr_features = corrmat.index\n",
    "plt.figure(figsize=(20,13))\n",
    "sns.heatmap(sgemm_product[top_corr_features].corr(),annot=True,cmap=\"RdYlGn\")\n",
    "\n"
   ]
  },
  {
   "cell_type": "markdown",
   "metadata": {},
   "source": [
    "# 1. Hyperparameter Tuning"
   ]
  },
  {
   "cell_type": "markdown",
   "metadata": {},
   "source": [
    "First , we scaled the data using the StandardScaler() built in function. We scaled all the 16 columns . Secondly , we split the dataset (with 16 columns) into training and test for a ratio of 0.7 : 0.3 . Then we create the X_train, X_test, y_train and y_test data for our training and test set."
   ]
  },
  {
   "cell_type": "code",
   "execution_count": 15,
   "metadata": {},
   "outputs": [
    {
     "name": "stderr",
     "output_type": "stream",
     "text": [
      "C:\\Users\\mukil\\Anaconda3\\lib\\site-packages\\sklearn\\preprocessing\\data.py:645: DataConversionWarning: Data with input dtype int64, float64 were all converted to float64 by StandardScaler.\n",
      "  return self.partial_fit(X, y)\n",
      "C:\\Users\\mukil\\Anaconda3\\lib\\site-packages\\sklearn\\base.py:464: DataConversionWarning: Data with input dtype int64, float64 were all converted to float64 by StandardScaler.\n",
      "  return self.fit(X, **fit_params).transform(X)\n"
     ]
    }
   ],
   "source": [
    "from sklearn.preprocessing import StandardScaler\n",
    "sc_data = StandardScaler()\n",
    "lin_reg1 = sc_data.fit_transform(sgemm_product)\n",
    "lin_reg1 = pd.DataFrame(lin_reg1)\n",
    "lin_reg1.columns = ['MWG', 'NWG', 'KWG', 'MDIMC', 'NDIMC', 'MDIMA', 'NDIMB', 'KWI','VWM', 'VWN', 'STRM', 'STRN', 'SA', 'SB','AVERAGE_RUN']\n",
    "y_LinReg=lin_reg1['AVERAGE_RUN']\n",
    "X_LinReg=lin_reg1.drop(['AVERAGE_RUN'],axis=1)"
   ]
  },
  {
   "cell_type": "code",
   "execution_count": 16,
   "metadata": {},
   "outputs": [],
   "source": [
    "#setting the matrixes\n",
    "ones = np.ones([X_LinReg.shape[0],1])\n",
    "X_LinReg = np.concatenate((ones,X_LinReg),axis=1)\n"
   ]
  },
  {
   "cell_type": "code",
   "execution_count": 91,
   "metadata": {},
   "outputs": [],
   "source": [
    "from sklearn.model_selection import train_test_split\n",
    "X_train, X_test, y_train, y_test = train_test_split(X_LinReg, y_LinReg, test_size=0.3, random_state=101)"
   ]
  },
  {
   "cell_type": "code",
   "execution_count": 42,
   "metadata": {},
   "outputs": [],
   "source": [
    "def cost_function(X, Y, B):\n",
    "    m = len(Y)\n",
    "    J = np.sum((X.dot(B) - Y) ** 2)/(2 * m)\n",
    "    return J\n",
    "\n",
    "def batch_gradient_descent(X, Y, B, alpha, iterations):\n",
    "    cost_history = [0] * iterations\n",
    "    m = len(Y)\n",
    "\n",
    "    for iteration in range(iterations):\n",
    "        h = X.dot(B) # Hypothesis Values\n",
    "        loss = h - Y #Difference b/w Hypothesis and Actual Y\n",
    "        gradient = X.T.dot(loss) / m # Gradient Calculation\n",
    "        B = B - alpha * gradient # Changing Values of B using Gradient\n",
    "        cost = cost_function(X, Y, B) # New Cost Value\n",
    "        cost_history[iteration] = cost\n",
    "    return B, cost_history\n"
   ]
  },
  {
   "cell_type": "code",
   "execution_count": 93,
   "metadata": {},
   "outputs": [],
   "source": [
    "# Initial Coefficients\n",
    "B = np.zeros(X_train.shape[1])"
   ]
  },
  {
   "cell_type": "code",
   "execution_count": 94,
   "metadata": {},
   "outputs": [
    {
     "name": "stdout",
     "output_type": "stream",
     "text": [
      "0.49465903977303277\n"
     ]
    }
   ],
   "source": [
    "# compute cost with all Betas as zeroes\n",
    "cost_before_GD = cost_function(X_train,y_train,B)\n",
    "print(cost_before_GD)"
   ]
  },
  {
   "cell_type": "code",
   "execution_count": 95,
   "metadata": {},
   "outputs": [],
   "source": [
    "#set hyper parameters\n",
    "learning_rate =[0.0001,0.0003,0.0005,0.01] #learning rate\n",
    "iters = 5000 #no.of iterations\n",
    "#threshold = [0.00001,0.000015,0.00002,0.000025]\n",
    "finalCost_train = []\n",
    "finalCost_test = []\n",
    "for alpha in learning_rate:\n",
    "    newB,cost_history = batch_gradient_descent(X_train,y_train,B,alpha,iters)\n",
    "    finalCost_train.append(cost_history[-1]) \n",
    "    finalCost_test.append(cost_function(X_test,y_test,newB)) \n",
    "    "
   ]
  },
  {
   "cell_type": "code",
   "execution_count": 96,
   "metadata": {},
   "outputs": [
    {
     "name": "stdout",
     "output_type": "stream",
     "text": [
      "[-0.00170219  0.38324228  0.352695    0.10986753 -0.3545628  -0.34690952\n",
      "  0.02541489  0.02614807  0.03191307 -0.0087549  -0.01734381 -0.01379628\n",
      "  0.00180739  0.0511905   0.06308263]\n"
     ]
    }
   ],
   "source": [
    "print(newB)\n"
   ]
  },
  {
   "cell_type": "code",
   "execution_count": 97,
   "metadata": {},
   "outputs": [
    {
     "name": "stdout",
     "output_type": "stream",
     "text": [
      "[0.39458945973127135, 0.3282748235366828, 0.3117796644762351, 0.30333104511190984]\n",
      "[0.3799613940434122, 0.3163247470808388, 0.30079538537442135, 0.29325342660501585]\n"
     ]
    }
   ],
   "source": [
    "print(finalCost_test)\n",
    "print(finalCost_train)"
   ]
  },
  {
   "cell_type": "code",
   "execution_count": 99,
   "metadata": {},
   "outputs": [
    {
     "data": {
      "image/png": "[encoded data removed]",
      "text/plain": [
       "<Figure size 432x288 with 1 Axes>"
      ]
     },
     "metadata": {
      "needs_background": "light"
     },
     "output_type": "display_data"
    }
   ],
   "source": [
    "plt.plot(finalCost_train, learning_rate, label='training_cost')\n",
    "plt.plot(finalCost_test, learning_rate, label='testing_cost')\n",
    "plt.title('Cost with varying learing_rate')\n",
    "plt.ylabel('Alpha',)\n",
    "plt.xlabel('Cost')\n",
    "plt.legend()\n",
    "plt.show()\n"
   ]
  },
  {
   "cell_type": "code",
   "execution_count": 100,
   "metadata": {},
   "outputs": [],
   "source": [
    "from sklearn.linear_model import LinearRegression\n",
    "model_lin=LinearRegression()\n",
    "model_lin.fit(X_train,y_train)\n",
    "predictions=model_lin.predict(X_test)"
   ]
  },
  {
   "cell_type": "code",
   "execution_count": 101,
   "metadata": {},
   "outputs": [
    {
     "data": {
      "text/plain": [
       "array([ 0.        ,  0.38324228,  0.352695  ,  0.10986753, -0.3545628 ,\n",
       "       -0.34690952,  0.02541489,  0.02614807,  0.03191307, -0.0087549 ,\n",
       "       -0.01734381, -0.01379628,  0.00180739,  0.0511905 ,  0.06308263])"
      ]
     },
     "execution_count": 101,
     "metadata": {},
     "output_type": "execute_result"
    }
   ],
   "source": [
    "model_lin.coef_"
   ]
  },
  {
   "cell_type": "code",
   "execution_count": 102,
   "metadata": {},
   "outputs": [
    {
     "data": {
      "text/plain": [
       "-0.0017021873743116227"
      ]
     },
     "execution_count": 102,
     "metadata": {},
     "output_type": "execute_result"
    }
   ],
   "source": [
    "model_lin.intercept_"
   ]
  },
  {
   "cell_type": "markdown",
   "metadata": {},
   "source": [
    "Logistic Regression Experiment A"
   ]
  },
  {
   "cell_type": "code",
   "execution_count": 47,
   "metadata": {},
   "outputs": [
    {
     "name": "stdout",
     "output_type": "stream",
     "text": [
      "False    120801\n",
      "True     120799\n",
      "Name: AVERAGE_RUN, dtype: int64\n"
     ]
    },
    {
     "data": {
      "image/png": "[encoded data removed]",
      "text/plain": [
       "<Figure size 432x288 with 1 Axes>"
      ]
     },
     "metadata": {
      "needs_background": "light"
     },
     "output_type": "display_data"
    }
   ],
   "source": [
    "sns.distplot(sgemm_product['AVERAGE_RUN'],bins=30,kde=False)\n",
    "average_median=sgemm_product['AVERAGE_RUN'].median()\n",
    "\n",
    "classificaion=sgemm_product['AVERAGE_RUN']>sgemm_product['AVERAGE_RUN'].median()\n",
    "values=classificaion.value_counts()\n",
    "print(values)"
   ]
  },
  {
   "cell_type": "code",
   "execution_count": 48,
   "metadata": {},
   "outputs": [
    {
     "name": "stderr",
     "output_type": "stream",
     "text": [
      "C:\\Users\\mukil\\Anaconda3\\lib\\site-packages\\sklearn\\preprocessing\\data.py:645: DataConversionWarning: Data with input dtype int64 were all converted to float64 by StandardScaler.\n",
      "  return self.partial_fit(X, y)\n",
      "C:\\Users\\mukil\\Anaconda3\\lib\\site-packages\\sklearn\\base.py:464: DataConversionWarning: Data with input dtype int64 were all converted to float64 by StandardScaler.\n",
      "  return self.fit(X, **fit_params).transform(X)\n"
     ]
    }
   ],
   "source": [
    "# convert into binary classification problem. The target variable should have two categories.\n",
    "y_LogReg1=sgemm_product['AVERAGE_RUN']\n",
    "X_LogReg1=sgemm_product.drop(['AVERAGE_RUN'],axis=1)\n",
    "y_LogReg1 = y_LogReg1.apply(lambda x : 0 if x <= average_median else 1)\n",
    "# Feature scaling\n",
    "from sklearn.preprocessing import StandardScaler\n",
    "sc_LogReg1 = StandardScaler()\n",
    "X_LogReg1 = sc_LogReg1.fit_transform(X_LogReg1)\n",
    "X_LogReg1 = pd.DataFrame(X_LogReg1)\n",
    "\n",
    "#setting the matrixes\n",
    "ones = np.ones([X_LogReg1.shape[0],1])\n",
    "X_LogReg1 = np.concatenate((ones,X_LogReg1),axis=1)\n",
    "\n",
    "from sklearn.model_selection import train_test_split\n",
    "X_train,X_test,y_train,y_test = train_test_split(X_LogReg1,y_LogReg1,test_size = 0.3,random_state = 0)\n",
    "\n"
   ]
  },
  {
   "cell_type": "code",
   "execution_count": 49,
   "metadata": {},
   "outputs": [],
   "source": [
    "def sigmoid(x):\n",
    "    return 1 / (1 + np.exp(-x))\n",
    "\n",
    "def compute_cost(X, y, theta):\n",
    "    m = len(y)\n",
    "    h = sigmoid(X @ theta)\n",
    "    epsilon = 1e-5\n",
    "    cost = (1/m)*(((-y).T @ np.log(h + epsilon))-((1-y).T @ np.log(1-h + epsilon)))\n",
    "    return cost\n",
    "\n",
    "\n",
    "def gradient_descent(X, y, theta, learning_rate, iterations):\n",
    "    m = len(y)\n",
    "    cost_history = np.zeros((iterations,1))\n",
    "\n",
    "    for i in range(iterations):\n",
    "        theta = theta - (learning_rate/m) * (X.T @ (sigmoid(X @ theta) - y)) \n",
    "        cost = compute_cost(X, y, theta)\n",
    "        cost_history[i] = cost\n",
    "    return (cost_history, theta)\n",
    "\n",
    "def pred_values(beta, X):\n",
    "    '''\n",
    "    function to predict labels\n",
    "    '''\n",
    "    pred_prob = sigmoid(X.dot(beta))\n",
    "    pred_value = np.where(pred_prob >= .5, 1, 0)\n",
    "    return np.squeeze(pred_value)"
   ]
  },
  {
   "cell_type": "code",
   "execution_count": 117,
   "metadata": {},
   "outputs": [
    {
     "name": "stdout",
     "output_type": "stream",
     "text": [
      "Initial Cost is: 0.693127180759928 \n",
      "\n"
     ]
    }
   ],
   "source": [
    "theta = np.zeros(X_train.shape[1])\n",
    "initial_cost = compute_cost(X_train, y_train, theta)\n",
    "print(\"Initial Cost is: {} \\n\".format(initial_cost))\n",
    "\n",
    "#set hyper parameters\n",
    "learning_rate = [0.001,0.003,0.006,0.1] #learning rate\n",
    "iters = 5000 #no.of iterations\n",
    "#threshold = [0.00001,0.000015,0.00002,0.000025]"
   ]
  },
  {
   "cell_type": "code",
   "execution_count": 118,
   "metadata": {},
   "outputs": [],
   "source": [
    "from sklearn.metrics import accuracy_score\n",
    "LogCost_train = []\n",
    "LogCost_test = []\n",
    "accuracy1=[]\n",
    "for alpha in learning_rate:\n",
    "    (LogCost_history,newtheta) = gradient_descent(X_train, y_train, theta, alpha, iters)\n",
    "    LogCost_train.append(LogCost_history[-1])\n",
    "    LogCost_test.append(compute_cost(X_test,y_test,newtheta))\n",
    "    y_pred = pred_values(newtheta, X_test)\n",
    "    accuracy1.append(accuracy_score(y_test,y_pred))\n",
    "    "
   ]
  },
  {
   "cell_type": "code",
   "execution_count": 119,
   "metadata": {},
   "outputs": [
    {
     "name": "stdout",
     "output_type": "stream",
     "text": [
      "Estimated regression coefficients: [ 0.00903904  1.3186386   0.84865837  0.15362319 -0.89816392 -0.76339183\n",
      " -0.05115526 -0.06745431 -0.01050558 -0.07767243 -0.14498027 -0.32463368\n",
      " -0.03295024 -0.4015677  -0.08649109]\n"
     ]
    }
   ],
   "source": [
    "# estimated beta values and number of iterations\n",
    "print(\"Estimated regression coefficients:\", newtheta)\n",
    "#print(\"No. of iterations:\", num_iter)\n",
    "\n",
    "# predicted labels\n",
    "y_pred = pred_values(newtheta, X_test)"
   ]
  },
  {
   "cell_type": "code",
   "execution_count": 120,
   "metadata": {},
   "outputs": [
    {
     "name": "stdout",
     "output_type": "stream",
     "text": [
      "[array([0.53098881]), array([0.48864706]), array([0.47918094]), array([0.47728631])]\n",
      "[0.5314577455066056, 0.48854556691330436, 0.4786143635347578, 0.47636514333342944]\n"
     ]
    }
   ],
   "source": [
    "print(LogCost_train)\n",
    "print(LogCost_test)"
   ]
  },
  {
   "cell_type": "code",
   "execution_count": 121,
   "metadata": {},
   "outputs": [
    {
     "data": {
      "text/plain": [
       "[0.7910182119205298, 0.8031594922737307, 0.807008830022075, 0.8081539735099338]"
      ]
     },
     "execution_count": 121,
     "metadata": {},
     "output_type": "execute_result"
    }
   ],
   "source": [
    "accuracy1"
   ]
  },
  {
   "cell_type": "code",
   "execution_count": 122,
   "metadata": {},
   "outputs": [
    {
     "data": {
      "text/plain": [
       "Text(0.5, 1.0, 'Accuracy vs. Test set Alpha')"
      ]
     },
     "execution_count": 122,
     "metadata": {},
     "output_type": "execute_result"
    },
    {
     "data": {
      "image/png": "[encoded data removed]",
      "text/plain": [
       "<Figure size 432x288 with 1 Axes>"
      ]
     },
     "metadata": {
      "needs_background": "light"
     },
     "output_type": "display_data"
    }
   ],
   "source": [
    "fig , ax = plt.subplots()\n",
    "ax.plot(accuracy1,learning_rate)\n",
    "ax.set_xlabel('accuracy')  \n",
    "ax.set_ylabel('Alpha')  \n",
    "ax.set_title('Accuracy vs. Test set Alpha') "
   ]
  },
  {
   "cell_type": "code",
   "execution_count": 123,
   "metadata": {},
   "outputs": [
    {
     "data": {
      "image/png": "[encoded data removed]",
      "text/plain": [
       "<Figure size 432x288 with 1 Axes>"
      ]
     },
     "metadata": {
      "needs_background": "light"
     },
     "output_type": "display_data"
    }
   ],
   "source": [
    "plt.plot(LogCost_train, learning_rate, label='training_cost')\n",
    "plt.plot(LogCost_test, learning_rate, label='testing_cost')\n",
    "plt.title('Cost with varying learing_rate')\n",
    "plt.ylabel('Alpha',)\n",
    "plt.xlabel('Cost')\n",
    "plt.legend()\n",
    "plt.show()"
   ]
  },
  {
   "cell_type": "code",
   "execution_count": 124,
   "metadata": {},
   "outputs": [
    {
     "name": "stderr",
     "output_type": "stream",
     "text": [
      "C:\\Users\\mukil\\Anaconda3\\lib\\site-packages\\sklearn\\linear_model\\logistic.py:433: FutureWarning: Default solver will be changed to 'lbfgs' in 0.22. Specify a solver to silence this warning.\n",
      "  FutureWarning)\n"
     ]
    }
   ],
   "source": [
    "from sklearn.linear_model import LogisticRegression\n",
    "model_log=LogisticRegression()\n",
    "model_log.fit(X_train,y_train)\n",
    "predictions=model_log.predict(X_test)"
   ]
  },
  {
   "cell_type": "code",
   "execution_count": 125,
   "metadata": {},
   "outputs": [
    {
     "data": {
      "text/plain": [
       "array([[ 0.00451476,  1.31846992,  0.84854204,  0.1535796 , -0.89801053,\n",
       "        -0.76325589, -0.05113785, -0.06743863, -0.01050439, -0.07761699,\n",
       "        -0.14491875, -0.32460372, -0.03294696, -0.40152923, -0.08648361]])"
      ]
     },
     "execution_count": 125,
     "metadata": {},
     "output_type": "execute_result"
    }
   ],
   "source": [
    "model_log.coef_"
   ]
  },
  {
   "cell_type": "code",
   "execution_count": 126,
   "metadata": {},
   "outputs": [
    {
     "data": {
      "text/plain": [
       "array([ 0.00903904,  1.3186386 ,  0.84865837,  0.15362319, -0.89816392,\n",
       "       -0.76339183, -0.05115526, -0.06745431, -0.01050558, -0.07767243,\n",
       "       -0.14498027, -0.32463368, -0.03295024, -0.4015677 , -0.08649109])"
      ]
     },
     "execution_count": 126,
     "metadata": {},
     "output_type": "execute_result"
    }
   ],
   "source": [
    "newtheta"
   ]
  },
  {
   "cell_type": "code",
   "execution_count": 127,
   "metadata": {},
   "outputs": [
    {
     "data": {
      "text/plain": [
       "array([0.00451476])"
      ]
     },
     "execution_count": 127,
     "metadata": {},
     "output_type": "execute_result"
    }
   ],
   "source": [
    "model_log.intercept_"
   ]
  },
  {
   "cell_type": "markdown",
   "metadata": {},
   "source": [
    "# 2. Changing Convergence Method"
   ]
  },
  {
   "cell_type": "markdown",
   "metadata": {},
   "source": [
    "Experiment 2"
   ]
  },
  {
   "cell_type": "code",
   "execution_count": 32,
   "metadata": {},
   "outputs": [],
   "source": [
    "def cost_function(X, Y, B):\n",
    "    m = len(Y)\n",
    "    J = np.sum((X.dot(B) - Y) ** 2)/(2 * m)\n",
    "    return J\n",
    "\n",
    "def batch_gradient_descent_threshold(X, Y, B,alpha,iters,threshold):\n",
    "    cost = [0] * iters\n",
    "    m = len(Y)\n",
    "\n",
    "    for iteration in range(iters):\n",
    "        h = X.dot(B) # Hypothesis Values\n",
    "        loss = h - Y #Difference b/w Hypothesis and Actual Y\n",
    "        gradient = X.T.dot(loss) / m # Gradient Calculation\n",
    "        B = B - alpha * gradient # Changing Values of B using Gradient\n",
    "        cost[iteration] = cost_function(X, Y, B) # New Cost Value\n",
    "        if (cost[iteration-1] - cost[iteration] <= threshold and iteration != 0):\n",
    "            print(\"Previous cost:\",cost[iteration-1] ,\n",
    "                  \"Current cost:\", cost[iteration],\n",
    "                  \"Difference :\",cost[iteration-1] - cost[iteration],\n",
    "                  \"Iteration:\",iteration,\n",
    "                  \"Threshold\",threshold)\n",
    "            print(\"Breaking out of loop\")\n",
    "            iteration_count.append(iteration)\n",
    "            return B , cost[iteration],iteration_count\n",
    "    return B, cost,iteration_count"
   ]
  },
  {
   "cell_type": "code",
   "execution_count": 33,
   "metadata": {},
   "outputs": [],
   "source": [
    "from sklearn.model_selection import train_test_split\n",
    "X_train, X_test, y_train, y_test = train_test_split(X_LinReg, y_LinReg, test_size=0.3, random_state=101)"
   ]
  },
  {
   "cell_type": "code",
   "execution_count": 34,
   "metadata": {},
   "outputs": [
    {
     "name": "stdout",
     "output_type": "stream",
     "text": [
      "Cost for training set with threshold 0.01\n",
      "Previous cost: 0.49428689696085465 Current cost: 0.49391557865250874 Difference : 0.00037131830834591373 Iteration: 1 Threshold 0.01\n",
      "Breaking out of loop\n",
      "Cost for testing set with threshold 0.01\n",
      "Previous cost: 0.5120722721678208 Current cost: 0.5116831735089092 Difference : 0.0003890986589115686 Iteration: 1 Threshold 0.01\n",
      "Breaking out of loop\n",
      "Cost for training set with threshold 1e-06\n",
      "Previous cost: 0.2942023937458028 Current cost: 0.2942013942422925 Difference : 9.995035102905447e-07 Iteration: 4452 Threshold 1e-06\n",
      "Breaking out of loop\n",
      "Cost for testing set with threshold 1e-06\n",
      "Previous cost: 0.3041477777935371 Current cost: 0.30414677855651123 Difference : 9.992370258449235e-07 Iteration: 4469 Threshold 1e-06\n",
      "Breaking out of loop\n",
      "Cost for training set with threshold 1e-13\n",
      "Previous cost: 0.29325342670077376 Current cost: 0.2932534267006739 Difference : 9.986456106503283e-14 Iteration: 19821 Threshold 1e-13\n",
      "Breaking out of loop\n",
      "Cost for testing set with threshold 1e-13\n",
      "Previous cost: 0.3032013644577094 Current cost: 0.3032013644576094 Difference : 9.997558336749535e-14 Iteration: 19770 Threshold 1e-13\n",
      "Breaking out of loop\n",
      "Cost for training set with threshold 1e-20\n",
      "Previous cost: 0.29325342660520104 Current cost: 0.29325342660520104 Difference : 0.0 Iteration: 25818 Threshold 1e-20\n",
      "Breaking out of loop\n",
      "Cost for testing set with threshold 1e-20\n",
      "Previous cost: 0.30320136436267253 Current cost: 0.30320136436267253 Difference : 0.0 Iteration: 26171 Threshold 1e-20\n",
      "Breaking out of loop\n"
     ]
    }
   ],
   "source": [
    "\n",
    "# Initial Coefficients\n",
    "B = np.zeros(X_train.shape[1])\n",
    "\n",
    "#set hyper parameters\n",
    "iters = 60000\n",
    "iteration_test=[]\n",
    "iteration_train=[]\n",
    "cost_train=[]\n",
    "cost_test=[]\n",
    "\n",
    "threshold = [0.01,0.000001,0.0000000000001,0.00000000000000000001]\n",
    "alpha = 0.001\n",
    "\n",
    "for thresh in threshold:\n",
    "    iteration_count = []\n",
    "    print(\"Cost for training set with threshold\",thresh)\n",
    "    g_threshold_train, cost_threshold_train, iteration_count = batch_gradient_descent_threshold(X_train, y_train, B, alpha,iters, thresh)\n",
    "    iteration_train.append(iteration_count)\n",
    "    cost_train.append(cost_threshold_train)\n",
    "    iteration_count = []\n",
    "    print(\"Cost for testing set with threshold\",thresh)\n",
    "    g_threshold_test, cost_threshold_test, iteration_count = batch_gradient_descent_threshold(X_test, y_test, B, alpha, iters,thresh)\n",
    "    iteration_test.append(iteration_count)\n",
    "    cost_test.append(cost_threshold_test)\n"
   ]
  },
  {
   "cell_type": "code",
   "execution_count": 35,
   "metadata": {},
   "outputs": [
    {
     "name": "stdout",
     "output_type": "stream",
     "text": [
      "[0.49391557865250874, 0.2942013942422925, 0.2932534267006739, 0.29325342660520104]\n",
      "[0.5116831735089092, 0.30414677855651123, 0.3032013644576094, 0.30320136436267253]\n"
     ]
    }
   ],
   "source": [
    "print(cost_train)\n",
    "print(cost_test)"
   ]
  },
  {
   "cell_type": "code",
   "execution_count": 40,
   "metadata": {},
   "outputs": [
    {
     "data": {
      "text/plain": [
       "<matplotlib.legend.Legend at 0x1ff8ad322e8>"
      ]
     },
     "execution_count": 40,
     "metadata": {},
     "output_type": "execute_result"
    },
    {
     "data": {
      "image/png": "[encoded data removed]",
      "text/plain": [
       "<Figure size 432x288 with 1 Axes>"
      ]
     },
     "metadata": {
      "needs_background": "light"
     },
     "output_type": "display_data"
    }
   ],
   "source": [
    "fig, ax = plt.subplots()\n",
    "ax.plot(range(len(threshold)),cost_train,label='cost_train')\n",
    "ax.plot(range(len(threshold)),cost_test,label='cost_test')\n",
    "ax.set_xticks(range(len(threshold)))\n",
    "ax.set_xticklabels(threshold)\n",
    "ax.set_xlabel('Threshold')\n",
    "ax.set_ylabel('Cost')\n",
    "ax.set_title('Cost Vs Convergence Method')\n",
    "ax.legend()"
   ]
  },
  {
   "cell_type": "code",
   "execution_count": 44,
   "metadata": {},
   "outputs": [
    {
     "name": "stdout",
     "output_type": "stream",
     "text": [
      "[0.49428689696085465, 0.33604290524301167, 0.3007925323292575, 0.29378627038800925]\n",
      "[0.5120814198440159, 0.348965330506668, 0.31177651742288703, 0.3040661838500954]\n"
     ]
    }
   ],
   "source": [
    "threshold=0.0000000000001\n",
    "alpha = 0.001\n",
    "\n",
    "iterations=[1,1000,2500,5000]\n",
    "\n",
    "finalCost_train = []\n",
    "finalCost_test = []\n",
    "\n",
    "for iters in iterations:\n",
    "    newB,cost_history = batch_gradient_descent(X_train,y_train,B,alpha,iters)\n",
    "    finalCost_train.append(cost_history[-1]) \n",
    "    finalCost_test.append(cost_function(X_test,y_test,newB)) \n",
    "\n",
    "print(finalCost_train)\n",
    "print(finalCost_test)"
   ]
  },
  {
   "cell_type": "code",
   "execution_count": 45,
   "metadata": {},
   "outputs": [
    {
     "data": {
      "image/png": "[encoded data removed]",
      "text/plain": [
       "<Figure size 432x288 with 1 Axes>"
      ]
     },
     "metadata": {
      "needs_background": "light"
     },
     "output_type": "display_data"
    }
   ],
   "source": [
    "plt.plot(iterations, finalCost_train, label='training_cost')\n",
    "plt.plot(iterations, finalCost_test, label='testing_cost')\n",
    "plt.title('Train/Test Cost with varying iterations-tol 1e-13')\n",
    "plt.ylabel('Cost',)\n",
    "plt.xlabel('iterations')\n",
    "plt.legend()\n",
    "plt.show()\n"
   ]
  },
  {
   "cell_type": "markdown",
   "metadata": {},
   "source": [
    "Experiment B Logistic"
   ]
  },
  {
   "cell_type": "code",
   "execution_count": 50,
   "metadata": {},
   "outputs": [],
   "source": [
    "X_train,X_test,y_train,y_test = train_test_split(X_LogReg1,y_LogReg1,test_size = 0.3,random_state = 0)\n",
    "\n",
    "def gradient_descent_threshold_log(X, y, theta, learning_rate, iterations,threshold):\n",
    "    m = len(y)\n",
    "    cost_history = np.zeros((iterations,1))\n",
    "\n",
    "    for i in range(iterations):\n",
    "        theta = theta - (learning_rate/m) * (X.T @ (sigmoid(X @ theta) - y)) \n",
    "        cost_history[i] = compute_cost(X, y, theta)\n",
    "        if (cost_history[i-1] - cost_history[i] <= threshold and i != 0):\n",
    "            print(\"Previous cost:\",cost_history[i-1] ,\n",
    "                  \"Current cost:\", cost_history[i],\n",
    "                  \"Difference :\",cost_history[i-1] - cost_history[i],\n",
    "                  \"Iteration:\",i,\n",
    "                  \"Threshold\",threshold)\n",
    "            print(\"Breaking out of loop\")\n",
    "            iteration_count.append(i)\n",
    "            return B , cost_history[i],iteration_count\n",
    "    return B, cost_history, iteration_count\n"
   ]
  },
  {
   "cell_type": "code",
   "execution_count": 67,
   "metadata": {},
   "outputs": [
    {
     "name": "stdout",
     "output_type": "stream",
     "text": [
      "Previous cost: [0.68455546] Current cost: [0.67646351] Difference : [0.00809195] Iteration: 1 Threshold 0.01\n",
      "Breaking out of loop\n",
      "Previous cost: [0.68464126] Current cost: [0.67662531] Difference : [0.00801595] Iteration: 1 Threshold 0.01\n",
      "Breaking out of loop\n",
      "Previous cost: [0.47738465] Current cost: [0.47738366] Difference : [9.91334931e-07] Iteration: 580 Threshold 1e-06\n",
      "Breaking out of loop\n",
      "Previous cost: [0.47628376] Current cost: [0.47628276] Difference : [9.9851598e-07] Iteration: 589 Threshold 1e-06\n",
      "Breaking out of loop\n",
      "Previous cost: [0.47728631] Current cost: [0.47728631] Difference : [9.99755834e-14] Iteration: 2788 Threshold 1e-13\n",
      "Breaking out of loop\n",
      "Previous cost: [0.47618275] Current cost: [0.47618275] Difference : [9.98090499e-14] Iteration: 2851 Threshold 1e-13\n",
      "Breaking out of loop\n",
      "Previous cost: [0.47728631] Current cost: [0.47728631] Difference : [0.] Iteration: 4033 Threshold 1e-20\n",
      "Breaking out of loop\n",
      "Previous cost: [0.47618275] Current cost: [0.47618275] Difference : [0.] Iteration: 4179 Threshold 1e-20\n",
      "Breaking out of loop\n"
     ]
    }
   ],
   "source": [
    "# Initial Coefficients\n",
    "B = np.zeros(X_train.shape[1])\n",
    "\n",
    "#set hyper parameters\n",
    "iters = 60000\n",
    "iteration_test=[]\n",
    "iteration_train=[]\n",
    "threshold = [0.01,0.000001,0.0000000000001,0.00000000000000000001]\n",
    "alpha = 0.1\n",
    "cost_train=[]\n",
    "cost_test=[]\n",
    "\n",
    "for thresh in threshold:\n",
    "    iteration_count = []\n",
    "    g_threshold_train, cost_threshold_train, iteration_count = gradient_descent_threshold_log(X_train, y_train, B, alpha,iters, thresh)\n",
    "    iteration_train.append(iteration_count)\n",
    "    cost_train.append(cost_threshold_train)\n",
    "    iteration_count = []\n",
    "    g_threshold_test, cost_threshold_test, iteration_count = gradient_descent_threshold_log(X_test, y_test, B, alpha, iters,thresh)\n",
    "    iteration_test.append(iteration_count)\n",
    "    cost_test.append(cost_threshold_test)\n"
   ]
  },
  {
   "cell_type": "code",
   "execution_count": null,
   "metadata": {},
   "outputs": [],
   "source": []
  },
  {
   "cell_type": "code",
   "execution_count": 69,
   "metadata": {},
   "outputs": [
    {
     "name": "stdout",
     "output_type": "stream",
     "text": [
      "[array([0.67646351]), array([0.47738366]), array([0.47728631]), array([0.47728631])]\n",
      "[array([0.67662531]), array([0.47628276]), array([0.47618275]), array([0.47618275])]\n"
     ]
    }
   ],
   "source": [
    "print(cost_train)\n",
    "print(cost_test)"
   ]
  },
  {
   "cell_type": "code",
   "execution_count": null,
   "metadata": {},
   "outputs": [],
   "source": []
  },
  {
   "cell_type": "code",
   "execution_count": null,
   "metadata": {},
   "outputs": [],
   "source": []
  },
  {
   "cell_type": "markdown",
   "metadata": {},
   "source": [
    "# 3. Random Feature Selection"
   ]
  },
  {
   "cell_type": "markdown",
   "metadata": {},
   "source": [
    "Experiment 3"
   ]
  },
  {
   "cell_type": "code",
   "execution_count": 87,
   "metadata": {},
   "outputs": [
    {
     "name": "stdout",
     "output_type": "stream",
     "text": [
      "0.49465903977303277\n"
     ]
    }
   ],
   "source": [
    "y_LinReg3=lin_reg1['AVERAGE_RUN']\n",
    "X_LinReg3 = lin_reg1.drop(['AVERAGE_RUN'],axis=1)\n",
    "\n",
    "X_LinReg3_sample=pd.DataFrame.sample(X_LinReg3,n=8,random_state=0,axis=1)\n",
    "X_LinReg3_sample.columns\n",
    "\n",
    "#setting the matrixes\n",
    "ones = np.ones([X_LinReg3_sample.shape[0],1])\n",
    "X_LinReg3_sample = np.concatenate((ones,X_LinReg3_sample),axis=1)\n",
    "\n",
    "\n",
    "from sklearn.model_selection import train_test_split\n",
    "X_train, X_test, y_train, y_test = train_test_split(X_LinReg3_sample, y_LinReg3, test_size=0.3, random_state=101)\n",
    "\n",
    "\n",
    "# Initial Coefficients\n",
    "B = np.zeros(X_train.shape[1])\n",
    "\n",
    "# compute cost with all Betas as zeroes\n",
    "finalCost_before_GD = cost_function(X_train,y_train,B)\n",
    "print(finalCost_before_GD)\n",
    "\n"
   ]
  },
  {
   "cell_type": "code",
   "execution_count": 88,
   "metadata": {},
   "outputs": [
    {
     "name": "stdout",
     "output_type": "stream",
     "text": [
      "[0.4345703379024193, 0.4042502082667987, 0.39840759120500047, 0.39617372944519874]\n",
      "[0.0001, 0.0003, 0.0005, 0.01]\n"
     ]
    }
   ],
   "source": [
    "#set hyper parameters\n",
    "learning_rate = [0.0001,0.0003,0.0005,0.01] #learning rate\n",
    "iters = 5000 #no.of iterations\n",
    "#threshold = [0.00001,0.000015,0.00002,0.000025]\n",
    "\n",
    "finalCost_train = []\n",
    "finalCost_test = []\n",
    "for alpha in learning_rate:\n",
    "    newB,cost_history = batch_gradient_descent(X_train,y_train,B,alpha,iters)\n",
    "    finalCost_train.append(cost_history[-1]) \n",
    "    finalCost_test.append(cost_function(X_test,y_test,newB)) \n",
    "\n",
    "print(finalCost_train)\n",
    "print(learning_rate)\n",
    "\n"
   ]
  },
  {
   "cell_type": "code",
   "execution_count": 89,
   "metadata": {},
   "outputs": [
    {
     "name": "stdout",
     "output_type": "stream",
     "text": [
      "[0.45031774287810916, 0.41828126799231236, 0.41186802907394326, 0.40922026417231105]\n"
     ]
    }
   ],
   "source": [
    "print(finalCost_test)"
   ]
  },
  {
   "cell_type": "code",
   "execution_count": 90,
   "metadata": {},
   "outputs": [
    {
     "name": "stdout",
     "output_type": "stream",
     "text": [
      "[-0.00208246  0.16647966 -0.01208954 -0.25972033  0.00188776  0.04728111\n",
      "  0.06399956 -0.01907814  0.35431559]\n"
     ]
    }
   ],
   "source": [
    "print(newB)"
   ]
  },
  {
   "cell_type": "code",
   "execution_count": 91,
   "metadata": {},
   "outputs": [
    {
     "data": {
      "image/png": "[encoded data removed]",
      "text/plain": [
       "<Figure size 432x288 with 1 Axes>"
      ]
     },
     "metadata": {
      "needs_background": "light"
     },
     "output_type": "display_data"
    }
   ],
   "source": [
    "plt.plot(finalCost_train, learning_rate, label='training_cost')\n",
    "plt.plot(finalCost_test, learning_rate, label='testing_cost')\n",
    "plt.title('Cost with varying learing_rate')\n",
    "plt.ylabel('Alpha',)\n",
    "plt.xlabel('Cost')\n",
    "plt.legend()\n",
    "plt.show()"
   ]
  },
  {
   "cell_type": "code",
   "execution_count": null,
   "metadata": {},
   "outputs": [],
   "source": []
  },
  {
   "cell_type": "code",
   "execution_count": 80,
   "metadata": {},
   "outputs": [],
   "source": []
  },
  {
   "cell_type": "markdown",
   "metadata": {},
   "source": [
    "Experiment 3- Part B"
   ]
  },
  {
   "cell_type": "code",
   "execution_count": 94,
   "metadata": {},
   "outputs": [
    {
     "name": "stderr",
     "output_type": "stream",
     "text": [
      "C:\\Users\\mukil\\Anaconda3\\lib\\site-packages\\sklearn\\preprocessing\\data.py:645: DataConversionWarning: Data with input dtype int64 were all converted to float64 by StandardScaler.\n",
      "  return self.partial_fit(X, y)\n",
      "C:\\Users\\mukil\\Anaconda3\\lib\\site-packages\\sklearn\\base.py:464: DataConversionWarning: Data with input dtype int64 were all converted to float64 by StandardScaler.\n",
      "  return self.fit(X, **fit_params).transform(X)\n"
     ]
    }
   ],
   "source": [
    "# convert into binary classification problem. The target variable should have two categories.\n",
    "y_LogReg3=sgemm_product['AVERAGE_RUN']\n",
    "y_LogReg3 = y_LogReg3.apply(lambda x : 0 if x <= average_median else 1)\n",
    "X_LogReg3 = sgemm_product.drop(['AVERAGE_RUN'],axis=1)\n",
    "\n",
    "X_LogReg3_sample=pd.DataFrame.sample(X_LogReg3,n=8,random_state=0,axis=1)\n",
    "X_LogReg3_sample.columns\n",
    "\n",
    "\n",
    "# Feature scaling\n",
    "from sklearn.preprocessing import StandardScaler\n",
    "sc_LogReg3 = StandardScaler()\n",
    "X_LogReg3_sample = sc_LogReg3.fit_transform(X_LogReg3_sample)\n",
    "X_LogReg3_sample = pd.DataFrame(X_LogReg3_sample)\n",
    "\n",
    "#setting the matrixes\n",
    "ones = np.ones([X_LogReg3.shape[0],1])\n",
    "X_LogReg3_sample = np.concatenate((ones,X_LogReg3_sample),axis=1)\n",
    "\n",
    "from sklearn.model_selection import train_test_split\n",
    "X_train,X_test,y_train,y_test = train_test_split(X_LogReg3_sample,y_LogReg3,test_size = 0.3,random_state = 0)\n"
   ]
  },
  {
   "cell_type": "code",
   "execution_count": 95,
   "metadata": {},
   "outputs": [
    {
     "name": "stdout",
     "output_type": "stream",
     "text": [
      "Initial Cost is: 0.693127180759928 \n",
      "\n"
     ]
    }
   ],
   "source": [
    "theta = np.zeros(X_train.shape[1])\n",
    "initial_cost = compute_cost(X_train, y_train, theta)\n",
    "print(\"Initial Cost is: {} \\n\".format(initial_cost))\n",
    "\n",
    "#set hyper parameters\n",
    "learning_rate = [0.001,0.003,0.006,0.1] #learning rate\n",
    "iters = 5000 #no.of iterations\n",
    "#threshold = [0.00001,0.000015,0.00002,0.000025]\n"
   ]
  },
  {
   "cell_type": "code",
   "execution_count": 96,
   "metadata": {},
   "outputs": [],
   "source": [
    "LogCost_train = []\n",
    "LogCost_test = []\n",
    "accuracy2=[]\n",
    "for alpha in learning_rate:\n",
    "    (LogCost_history,newtheta) = gradient_descent(X_train, y_train, theta, alpha, iters)\n",
    "    LogCost_train.append(LogCost_history[-1])\n",
    "    LogCost_test.append(compute_cost(X_test,y_test,newtheta))\n",
    "    y_pred = pred_values(newtheta, X_test)\n",
    "    accuracy2.append(accuracy_score(y_test,y_pred))\n",
    "\n"
   ]
  },
  {
   "cell_type": "code",
   "execution_count": 97,
   "metadata": {},
   "outputs": [
    {
     "data": {
      "text/plain": [
       "Text(0.5, 1.0, 'Accuracy vs. Test set Alpha')"
      ]
     },
     "execution_count": 97,
     "metadata": {},
     "output_type": "execute_result"
    },
    {
     "data": {
      "image/png": "[encoded data removed]",
      "text/plain": [
       "<Figure size 432x288 with 1 Axes>"
      ]
     },
     "metadata": {
      "needs_background": "light"
     },
     "output_type": "display_data"
    }
   ],
   "source": [
    "fig , ax = plt.subplots()\n",
    "ax.plot(accuracy2,learning_rate)\n",
    "ax.set_xlabel('Accuracy')  \n",
    "ax.set_ylabel('Alpha')  \n",
    "ax.set_title('Accuracy vs. Test set Alpha') "
   ]
  },
  {
   "cell_type": "code",
   "execution_count": 98,
   "metadata": {},
   "outputs": [
    {
     "data": {
      "image/png": "[encoded data removed]",
      "text/plain": [
       "<Figure size 432x288 with 1 Axes>"
      ]
     },
     "metadata": {
      "needs_background": "light"
     },
     "output_type": "display_data"
    }
   ],
   "source": [
    "plt.plot(LogCost_train, learning_rate, label='training_cost')\n",
    "plt.plot(LogCost_test, learning_rate, label='testing_cost')\n",
    "plt.title('Cost with varying learing_rate')\n",
    "plt.ylabel('Alpha',)\n",
    "plt.xlabel('Cost')\n",
    "plt.legend()\n",
    "plt.show()"
   ]
  },
  {
   "cell_type": "code",
   "execution_count": 99,
   "metadata": {},
   "outputs": [
    {
     "name": "stdout",
     "output_type": "stream",
     "text": [
      "[array([0.63956457]), array([0.63032331]), array([0.62954394]), array([0.62951192])]\n",
      "[0.6396992495692762, 0.6303463174884102, 0.6294482092087811, 0.6293741084194706]\n"
     ]
    }
   ],
   "source": [
    "print(LogCost_train)\n",
    "print(LogCost_test)"
   ]
  },
  {
   "cell_type": "code",
   "execution_count": 100,
   "metadata": {},
   "outputs": [
    {
     "name": "stdout",
     "output_type": "stream",
     "text": [
      "[ 0.01026802  0.4144477  -0.1142917  -0.40476768 -0.02145073  0.00645872\n",
      " -0.06502059 -0.1063436   0.60630752]\n"
     ]
    }
   ],
   "source": [
    "print(newtheta)"
   ]
  },
  {
   "cell_type": "code",
   "execution_count": 101,
   "metadata": {},
   "outputs": [
    {
     "name": "stdout",
     "output_type": "stream",
     "text": [
      "[0.6537665562913907, 0.6550772626931567, 0.6561258278145695, 0.6554221854304636]\n"
     ]
    }
   ],
   "source": [
    "print(accuracy2)"
   ]
  },
  {
   "cell_type": "markdown",
   "metadata": {},
   "source": [
    "# 4. Manual Feature Selection"
   ]
  },
  {
   "cell_type": "markdown",
   "metadata": {},
   "source": [
    "Experiment 4- Part A"
   ]
  },
  {
   "cell_type": "markdown",
   "metadata": {},
   "source": [
    "From the correlation matrix, we can see that the MWG,NWG,VWM and VWN are most highly correlated while MDIMC,NDIMC,MDIMA and NDIMB are least correlated with Average Run. Now let us retrain the model using the highlt correlated fields with Average Run."
   ]
  },
  {
   "cell_type": "code",
   "execution_count": 141,
   "metadata": {},
   "outputs": [
    {
     "name": "stdout",
     "output_type": "stream",
     "text": [
      "0.49465903977303277\n"
     ]
    }
   ],
   "source": [
    "y_LinReg4=lin_reg1['AVERAGE_RUN']\n",
    "X_LinReg4 = lin_reg1.drop(['MDIMC','NDIMC','MDIMA','NDIMB','STRM', 'STRN','AVERAGE_RUN'],axis=1)\n",
    "\n",
    "#setting the matrixes\n",
    "ones = np.ones([X_LinReg4.shape[0],1])\n",
    "X_LinReg4 = np.concatenate((ones,X_LinReg4),axis=1)\n",
    "\n",
    "from sklearn.model_selection import train_test_split\n",
    "X_train, X_test, y_train, y_test = train_test_split(X_LinReg4, y_LinReg4, test_size=0.3, random_state=101)\n",
    "\n",
    "\n",
    "# Initial Coefficients\n",
    "B = np.zeros(X_train.shape[1])\n",
    "\n",
    "# compute cost with all Betas as zeroes\n",
    "finalCost_before_GD = cost_function(X_train,y_train,B)\n",
    "print(finalCost_before_GD)\n"
   ]
  },
  {
   "cell_type": "code",
   "execution_count": 142,
   "metadata": {},
   "outputs": [
    {
     "name": "stdout",
     "output_type": "stream",
     "text": [
      "[0.4149413496444895, 0.382797539655963, 0.37854265294537515, 0.37740279861968024]\n",
      "[0.43037325043290736, 0.39656588698321865, 0.3919376974734885, 0.39073981171618205]\n",
      "[0.0001, 0.0003, 0.0005, 0.01]\n"
     ]
    }
   ],
   "source": [
    "#set hyper parameters\n",
    "learning_rate = [0.0001,0.0003,0.0005,0.01] #learning rate\n",
    "iters = 5000 #no.of iterations\n",
    "#threshold = [0.00001,0.000015,0.00002,0.000025]\n",
    "\n",
    "finalCost_train = []\n",
    "finalCost_test = []\n",
    "for alpha in learning_rate:\n",
    "    newB,cost_history = batch_gradient_descent(X_train,y_train,B,alpha,iters)\n",
    "    finalCost_train.append(cost_history[-1]) \n",
    "    finalCost_test.append(cost_function(X_test,y_test,newB)) \n",
    "\n",
    "print(finalCost_train)\n",
    "print(finalCost_test)\n",
    "print(learning_rate)"
   ]
  },
  {
   "cell_type": "code",
   "execution_count": 143,
   "metadata": {},
   "outputs": [
    {
     "data": {
      "image/png": "[encoded data removed]",
      "text/plain": [
       "<Figure size 432x288 with 1 Axes>"
      ]
     },
     "metadata": {
      "needs_background": "light"
     },
     "output_type": "display_data"
    }
   ],
   "source": [
    "plt.plot(finalCost_train, learning_rate, label='training_cost')\n",
    "plt.plot(finalCost_test, learning_rate, label='testing_cost')\n",
    "plt.title('Cost with varying learing_rate')\n",
    "plt.ylabel('Alpha',)\n",
    "plt.xlabel('Cost')\n",
    "plt.legend()\n",
    "plt.show()"
   ]
  },
  {
   "cell_type": "code",
   "execution_count": 144,
   "metadata": {},
   "outputs": [
    {
     "name": "stdout",
     "output_type": "stream",
     "text": [
      "[-0.00187411  0.33487841  0.30637354  0.00555779  0.03034413  0.04422619\n",
      "  0.03455649  0.05211459  0.06308182]\n"
     ]
    }
   ],
   "source": [
    "print(newB)"
   ]
  },
  {
   "cell_type": "markdown",
   "metadata": {},
   "source": [
    "Part B Logistic REgression"
   ]
  },
  {
   "cell_type": "code",
   "execution_count": 145,
   "metadata": {},
   "outputs": [
    {
     "name": "stderr",
     "output_type": "stream",
     "text": [
      "C:\\Users\\mukil\\Anaconda3\\lib\\site-packages\\sklearn\\preprocessing\\data.py:645: DataConversionWarning: Data with input dtype int64 were all converted to float64 by StandardScaler.\n",
      "  return self.partial_fit(X, y)\n",
      "C:\\Users\\mukil\\Anaconda3\\lib\\site-packages\\sklearn\\base.py:464: DataConversionWarning: Data with input dtype int64 were all converted to float64 by StandardScaler.\n",
      "  return self.fit(X, **fit_params).transform(X)\n"
     ]
    }
   ],
   "source": [
    "# convert into binary classification problem. The target variable should have two categories.\n",
    "y_LogReg4=sgemm_product['AVERAGE_RUN']\n",
    "y_LogReg4 = y_LogReg4.apply(lambda x : 0 if x <= average_median else 1)\n",
    "X_LogReg4 = sgemm_product.drop(['MDIMC','NDIMC','MDIMA','NDIMB','STRM', 'STRN','AVERAGE_RUN'],axis=1)\n",
    "\n",
    "# Feature scaling\n",
    "from sklearn.preprocessing import StandardScaler\n",
    "sc_LogReg4 = StandardScaler()\n",
    "X_LogReg4 = sc_LogReg4.fit_transform(X_LogReg4)\n",
    "X_LogReg4 = pd.DataFrame(X_LogReg4)\n",
    "\n",
    "#setting the matrixes\n",
    "ones = np.ones([X_LogReg4.shape[0],1])\n",
    "X_LogReg4 = np.concatenate((ones,X_LogReg4),axis=1)\n",
    "\n",
    "from sklearn.model_selection import train_test_split\n",
    "X_train,X_test,y_train,y_test = train_test_split(X_LogReg4,y_LogReg4,test_size = 0.3,random_state = 0)"
   ]
  },
  {
   "cell_type": "code",
   "execution_count": 146,
   "metadata": {},
   "outputs": [
    {
     "name": "stdout",
     "output_type": "stream",
     "text": [
      "Initial Cost is: 0.693127180759928 \n",
      "\n"
     ]
    }
   ],
   "source": [
    "theta = np.zeros(X_train.shape[1])\n",
    "initial_cost = compute_cost(X_train, y_train, theta)\n",
    "print(\"Initial Cost is: {} \\n\".format(initial_cost))\n",
    "\n",
    "#set hyper parameters\n",
    "learning_rate = [0.001,0.003,0.006,0.1] #learning rate\n",
    "iters = 5000 #no.of iterations\n",
    "#threshold = [0.00001,0.000015,0.00002,0.000025]\n"
   ]
  },
  {
   "cell_type": "code",
   "execution_count": 147,
   "metadata": {},
   "outputs": [],
   "source": [
    "LogCost_train = []\n",
    "LogCost_test = []\n",
    "accuracy3=[]\n",
    "for alpha in learning_rate:\n",
    "    (LogCost_history,newtheta) = gradient_descent(X_train, y_train, theta, alpha, iters)\n",
    "    LogCost_train.append(LogCost_history[-1])\n",
    "    LogCost_test.append(compute_cost(X_test,y_test,newtheta))\n",
    "    y_pred = pred_values(newtheta, X_test)\n",
    "    accuracy3.append(accuracy_score(y_test,y_pred))"
   ]
  },
  {
   "cell_type": "code",
   "execution_count": null,
   "metadata": {},
   "outputs": [],
   "source": []
  },
  {
   "cell_type": "code",
   "execution_count": 150,
   "metadata": {},
   "outputs": [
    {
     "data": {
      "image/png": "[encoded data removed]",
      "text/plain": [
       "<Figure size 432x288 with 1 Axes>"
      ]
     },
     "metadata": {
      "needs_background": "light"
     },
     "output_type": "display_data"
    }
   ],
   "source": [
    "plt.plot(LogCost_train, learning_rate, label='training_cost')\n",
    "plt.plot(LogCost_test, learning_rate, label='testing_cost')\n",
    "plt.title('Cost with varying learing_rate')\n",
    "plt.ylabel('Alpha',)\n",
    "plt.xlabel('Cost')\n",
    "plt.legend()\n",
    "plt.show() "
   ]
  },
  {
   "cell_type": "code",
   "execution_count": 153,
   "metadata": {
    "scrolled": false
   },
   "outputs": [
    {
     "name": "stdout",
     "output_type": "stream",
     "text": [
      "[array([0.57676253]), array([0.56074446]), array([0.55959482]), array([0.55955295])]\n",
      "[0.5778078222289412, 0.5621286031080266, 0.5610413877245417, 0.5610122366914381]\n"
     ]
    }
   ],
   "source": [
    "print(LogCost_train)\n",
    "print(LogCost_test)"
   ]
  },
  {
   "cell_type": "code",
   "execution_count": 151,
   "metadata": {},
   "outputs": [
    {
     "data": {
      "text/plain": [
       "[0.7199365342163355,\n",
       " 0.7218405077262693,\n",
       " 0.7215783664459161,\n",
       " 0.7200331125827815]"
      ]
     },
     "execution_count": 151,
     "metadata": {},
     "output_type": "execute_result"
    }
   ],
   "source": [
    "accuracy3"
   ]
  },
  {
   "cell_type": "code",
   "execution_count": null,
   "metadata": {},
   "outputs": [],
   "source": []
  }
 ],
 "metadata": {
  "kernelspec": {
   "display_name": "Python 3",
   "language": "python",
   "name": "python3"
  },
  "language_info": {
   "codemirror_mode": {
    "name": "ipython",
    "version": 3
   },
   "file_extension": ".py",
   "mimetype": "text/x-python",
   "name": "python",
   "nbconvert_exporter": "python",
   "pygments_lexer": "ipython3",
   "version": "3.7.3"
  }
 },
 "nbformat": 4,
 "nbformat_minor": 2
}
